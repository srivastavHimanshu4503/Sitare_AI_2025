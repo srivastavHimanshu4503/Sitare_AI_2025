{
 "cells": [
  {
   "cell_type": "code",
   "execution_count": 23,
   "id": "8f1cbf94",
   "metadata": {},
   "outputs": [],
   "source": [
    "import ast\n",
    "from collections import deque"
   ]
  },
  {
   "cell_type": "code",
   "execution_count": 24,
   "id": "2668194d",
   "metadata": {},
   "outputs": [],
   "source": [
    "input_source = []"
   ]
  },
  {
   "cell_type": "code",
   "execution_count": 25,
   "id": "3ff70be6",
   "metadata": {},
   "outputs": [],
   "source": [
    "with open(\"input.txt\") as f:\n",
    "    for _ in range(3):\n",
    "        input_source.append(f.readline().strip().replace('\\n', ''))"
   ]
  },
  {
   "cell_type": "code",
   "execution_count": 26,
   "id": "8668a102",
   "metadata": {},
   "outputs": [
    {
     "data": {
      "text/plain": [
       "[\"{'u': ['v', 'x'],'v': ['y'],'w': ['y', 'z'],'x': ['v'],'y': ['x'],'z': ['z']}\",\n",
       " 'u',\n",
       " 'x']"
      ]
     },
     "execution_count": 26,
     "metadata": {},
     "output_type": "execute_result"
    }
   ],
   "source": [
    "input_source"
   ]
  },
  {
   "cell_type": "code",
   "execution_count": null,
   "id": "c07536ef",
   "metadata": {},
   "outputs": [
    {
     "name": "stdout",
     "output_type": "stream",
     "text": [
      "{'u': ['v', 'x'], 'v': ['y'], 'w': ['y', 'z'], 'x': ['v'], 'y': ['x'], 'z': ['z']} u x\n"
     ]
    }
   ],
   "source": [
    "graph = ast.literal_eval(input_source[0]) \n",
    "source, destination = input_source[1], input_source[2]\n",
    "\n",
    "print(graph, source, destination)"
   ]
  },
  {
   "cell_type": "code",
   "execution_count": 45,
   "id": "3d357f7b",
   "metadata": {},
   "outputs": [],
   "source": [
    "def BFS(graph, start, end):\n",
    "    # Initialization\n",
    "    color = {u: \"WHITE\" for u in graph}\n",
    "    distance = {u: float(\"inf\") for u in graph}\n",
    "    parent = {u: None for u in graph}\n",
    "\n",
    "    # Start node setup\n",
    "    color[start] = \"GRAY\"\n",
    "    distance[start] = 0\n",
    "    parent[start] = None\n",
    "\n",
    "    # Queue initialization\n",
    "    Q = deque()\n",
    "    Q.append(start)\n",
    "\n",
    "    # BFS loop\n",
    "    while Q and Q[0] != end:\n",
    "        u = Q.popleft()\n",
    "        for v in graph[u]:\n",
    "            if color[v] == \"WHITE\":\n",
    "                color[v] = \"GRAY\"\n",
    "                distance[v] = distance[u] + 1\n",
    "                parent[v] = u\n",
    "                Q.append(v)\n",
    "        color[u] = \"BLACK\"\n",
    "\n",
    "    return distance, parent"
   ]
  },
  {
   "cell_type": "code",
   "execution_count": 46,
   "id": "777e86de",
   "metadata": {},
   "outputs": [
    {
     "name": "stdout",
     "output_type": "stream",
     "text": [
      "Distances from source: {'u': 0, 'v': 1, 'w': inf, 'x': 1, 'y': 2, 'z': inf}\n",
      "Parents in BFS tree: {'u': None, 'v': 'u', 'w': None, 'x': 'u', 'y': 'v', 'z': None}\n"
     ]
    }
   ],
   "source": [
    "# Run BFS starting from 'A'\n",
    "distance, parent = BFS(graph, source, destination)\n",
    "\n",
    "print(\"Distances from source:\", distance)\n",
    "print(\"Parents in BFS tree:\", parent)"
   ]
  },
  {
   "cell_type": "code",
   "execution_count": 47,
   "id": "3af671f4",
   "metadata": {},
   "outputs": [],
   "source": [
    "# Global variables for DFS\n",
    "time = 0\n",
    "color = {}\n",
    "parent = {}\n",
    "discovery = {}\n",
    "finish = {}"
   ]
  },
  {
   "cell_type": "code",
   "execution_count": 48,
   "id": "43a67fcb",
   "metadata": {},
   "outputs": [
    {
     "name": "stdout",
     "output_type": "stream",
     "text": [
      "{'u': 'WHITE', 'v': 'WHITE', 'w': 'WHITE', 'x': 'WHITE', 'y': 'WHITE', 'z': 'WHITE'}\n",
      "{'u': None, 'v': None, 'w': None, 'x': None, 'y': None, 'z': None}\n"
     ]
    }
   ],
   "source": [
    "for u in graph:\n",
    "        color[u] = \"WHITE\"   # Unvisited\n",
    "        parent[u] = None\n",
    "\n",
    "time = 0\n",
    "print(color)\n",
    "print(parent)"
   ]
  },
  {
   "cell_type": "code",
   "execution_count": 57,
   "id": "34ae7943",
   "metadata": {},
   "outputs": [],
   "source": [
    "def DFS_VISIT(G, u, dest):\n",
    "    \"\"\"\n",
    "    Visits a vertex u in DFS.\n",
    "    Tracks discovery time, finish time, and parent relationships.\n",
    "    \"\"\"\n",
    "    global time, color, parent, discovery, finish\n",
    "\n",
    "    color[u] = \"GRAY\"      # Node is discovered but not finished\n",
    "    time += 1\n",
    "    discovery[u] = time    # Discovery time\n",
    "\n",
    "    # Explore neighbors\n",
    "    for v in G[u]:\n",
    "        if v == dest: return\n",
    "        if color[v] == \"WHITE\":\n",
    "            parent[v] = u\n",
    "            DFS_VISIT(G, v, dest)\n",
    "\n",
    "    color[u] = \"BLACK\"     # Finished exploring u\n",
    "    time += 1\n",
    "    finish[u] = time       # Finish time"
   ]
  },
  {
   "cell_type": "code",
   "execution_count": 58,
   "id": "ed3e4b96",
   "metadata": {},
   "outputs": [],
   "source": [
    "def DFS(G, source, destination):\n",
    "    \"\"\"\n",
    "    Runs Depth-First Search on graph G.\n",
    "    Initializes all vertices, then calls DFS-VISIT on unvisited ones.\n",
    "    \"\"\"\n",
    "    global time, color, parent, discovery, finish\n",
    "\n",
    "    # Initialize all vertices\n",
    "    for u in G:\n",
    "        color[u] = \"WHITE\"   # Unvisited\n",
    "        parent[u] = None\n",
    "\n",
    "    time = 0\n",
    "\n",
    "    # Perform DFS on each unvisited node\n",
    "    if color[source] == \"WHITE\":\n",
    "        DFS_VISIT(G, source, destination)"
   ]
  },
  {
   "cell_type": "code",
   "execution_count": 59,
   "id": "9282ad3f",
   "metadata": {},
   "outputs": [
    {
     "name": "stdout",
     "output_type": "stream",
     "text": [
      "Discovery Times: {'u': 1, 'v': 2, 'y': 3, 'x': 4, 'w': 9, 'z': 10}\n",
      "Finish Times: {'x': 5, 'y': 6, 'v': 4, 'u': 8, 'z': 11, 'w': 12}\n",
      "Parents: {'u': None, 'v': 'u', 'w': None, 'x': None, 'y': 'v', 'z': None}\n"
     ]
    }
   ],
   "source": [
    "# --- Run DFS ---\n",
    "DFS(graph, source, destination)\n",
    "\n",
    "# --- Print Results ---\n",
    "print(\"Discovery Times:\", discovery)\n",
    "print(\"Finish Times:\", finish)\n",
    "print(\"Parents:\", parent)"
   ]
  }
 ],
 "metadata": {
  "kernelspec": {
   "display_name": "Python 3",
   "language": "python",
   "name": "python3"
  },
  "language_info": {
   "codemirror_mode": {
    "name": "ipython",
    "version": 3
   },
   "file_extension": ".py",
   "mimetype": "text/x-python",
   "name": "python",
   "nbconvert_exporter": "python",
   "pygments_lexer": "ipython3",
   "version": "3.13.1"
  }
 },
 "nbformat": 4,
 "nbformat_minor": 5
}
