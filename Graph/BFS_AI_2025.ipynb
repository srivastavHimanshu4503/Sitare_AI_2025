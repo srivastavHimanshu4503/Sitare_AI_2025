{
  "cells": [
    {
      "cell_type": "markdown",
      "metadata": {
        "colab_type": "text",
        "id": "view-in-github"
      },
      "source": [
        "<a href=\"https://colab.research.google.com/github/aruntakhur/SitareUniversity/blob/main/BFS_AI_2025.ipynb\" target=\"_parent\"><img src=\"https://colab.research.google.com/assets/colab-badge.svg\" alt=\"Open In Colab\"/></a>"
      ]
    },
    {
      "cell_type": "markdown",
      "metadata": {
        "id": "uvDS1SHjX9v_"
      },
      "source": [
        "# Define the Graph"
      ]
    },
    {
      "cell_type": "code",
      "execution_count": 1,
      "metadata": {
        "colab": {
          "base_uri": "https://localhost:8080/"
        },
        "id": "V_MNGSJpX0B0",
        "outputId": "bd7681e8-4edc-4968-f0a6-1ffdd6f5215d"
      },
      "outputs": [
        {
          "name": "stdout",
          "output_type": "stream",
          "text": [
            "{'A': 'WHITE', 'B': 'WHITE', 'C': 'WHITE', 'D': 'WHITE', 'E': 'WHITE', 'F': 'WHITE'}\n",
            "{'A': inf, 'B': inf, 'C': inf, 'D': inf, 'E': inf, 'F': inf}\n",
            "{'A': None, 'B': None, 'C': None, 'D': None, 'E': None, 'F': None}\n"
          ]
        }
      ],
      "source": [
        "# Example graph (Adjacency List)\n",
        "graph = {\n",
        "    'A': ['B', 'C'],\n",
        "    'B': ['D', 'E'],\n",
        "    'C': ['F'],\n",
        "    'D': [],\n",
        "    'E': ['F'],\n",
        "    'F': []\n",
        "}\n",
        "\n",
        "color = {u: \"WHITE\" for u in graph}\n",
        "distance = {u: float(\"inf\") for u in graph}\n",
        "parent = {u: None for u in graph}\n",
        "\n",
        "print(color)\n",
        "print(distance)\n",
        "print(parent)\n"
      ]
    },
    {
      "cell_type": "markdown",
      "metadata": {
        "id": "_KXBpgxtYDc9"
      },
      "source": [
        "# Visualize the Graph"
      ]
    },
    {
      "cell_type": "code",
      "execution_count": 2,
      "metadata": {
        "id": "BxctwV9wYGTL"
      },
      "outputs": [],
      "source": [
        "import networkx as nx\n",
        "import matplotlib.pyplot as plt"
      ]
    },
    {
      "cell_type": "code",
      "execution_count": 3,
      "metadata": {
        "colab": {
          "base_uri": "https://localhost:8080/",
          "height": 428
        },
        "id": "ozMwdvQHX3yU",
        "outputId": "22b0a821-8411-4fc9-c3ac-901dad2f1b65"
      },
      "outputs": [
        {
          "data": {
            "image/png": "[encoded data removed]",
            "text/plain": [
              "<Figure size 640x480 with 1 Axes>"
            ]
          },
          "metadata": {},
          "output_type": "display_data"
        }
      ],
      "source": [
        "G = nx.DiGraph()\n",
        "\n",
        "# Add edges\n",
        "for u in graph:\n",
        "    for v in graph[u]:\n",
        "        G.add_edge(u, v)\n",
        "\n",
        "# Define positions (spring_layout auto-arranges nicely)\n",
        "pos = nx.spring_layout(G, seed=42)\n",
        "\n",
        "# Draw nodes\n",
        "nx.draw_networkx_nodes(G, pos, node_color='lightblue', node_size=200)\n",
        "\n",
        "# Draw edges\n",
        "nx.draw_networkx_edges(G, pos, arrowstyle=\"->\", arrowsize=20)\n",
        "\n",
        "# Draw labels\n",
        "nx.draw_networkx_labels(G, pos, font_size=12, font_weight=\"bold\")\n",
        "\n",
        "plt.title(\"Graph Visualization (BFS Traversal)\")\n",
        "plt.axis(\"off\")\n",
        "plt.show()"
      ]
    },
    {
      "cell_type": "code",
      "execution_count": 4,
      "metadata": {
        "id": "VtOQ5vVVT0pr"
      },
      "outputs": [],
      "source": [
        "from collections import deque"
      ]
    },
    {
      "cell_type": "code",
      "execution_count": 5,
      "metadata": {
        "id": "uhne8qRkVCgH"
      },
      "outputs": [],
      "source": [
        "def BFS(graph, start):\n",
        "    # Initialization\n",
        "    color = {u: \"WHITE\" for u in graph}\n",
        "    distance = {u: float(\"inf\") for u in graph}\n",
        "    parent = {u: None for u in graph}\n",
        "\n",
        "    # Start node setup\n",
        "    color[start] = \"GRAY\"\n",
        "    distance[start] = 0\n",
        "    parent[start] = None\n",
        "\n",
        "    # Queue initialization\n",
        "    Q = deque()\n",
        "    Q.append(start)\n",
        "\n",
        "    # BFS loop\n",
        "    while Q:\n",
        "        u = Q.popleft()\n",
        "        for v in graph[u]:\n",
        "            if color[v] == \"WHITE\":\n",
        "                color[v] = \"GRAY\"\n",
        "                distance[v] = distance[u] + 1\n",
        "                parent[v] = u\n",
        "                Q.append(v)\n",
        "        color[u] = \"BLACK\"\n",
        "\n",
        "    return distance, parent"
      ]
    },
    {
      "cell_type": "code",
      "execution_count": 6,
      "metadata": {
        "colab": {
          "base_uri": "https://localhost:8080/"
        },
        "id": "ULo3pPc1XSwk",
        "outputId": "efae8445-fe76-4290-8b02-9091e6647923"
      },
      "outputs": [
        {
          "name": "stdout",
          "output_type": "stream",
          "text": [
            "Distances from source: {'A': 0, 'B': 1, 'C': 1, 'D': 2, 'E': 2, 'F': 2}\n",
            "Parents in BFS tree: {'A': None, 'B': 'A', 'C': 'A', 'D': 'B', 'E': 'B', 'F': 'C'}\n"
          ]
        }
      ],
      "source": [
        "# Run BFS starting from 'A'\n",
        "distance, parent = BFS(graph, 'A')\n",
        "\n",
        "print(\"Distances from source:\", distance)\n",
        "print(\"Parents in BFS tree:\", parent)"
      ]
    },
    {
      "cell_type": "code",
      "execution_count": 7,
      "metadata": {
        "colab": {
          "base_uri": "https://localhost:8080/"
        },
        "id": "qmvRUfAaYlJf",
        "outputId": "bf66c4aa-782e-41ef-ce8e-76edfa176868"
      },
      "outputs": [
        {
          "name": "stdout",
          "output_type": "stream",
          "text": [
            "BFS Tree edges:\n",
            "A -> B\n",
            "A -> C\n",
            "B -> D\n",
            "B -> E\n",
            "C -> F\n"
          ]
        }
      ],
      "source": [
        "print(\"BFS Tree edges:\")\n",
        "for node, p in parent.items():\n",
        "    if p is not None:\n",
        "        print(f\"{p} -> {node}\")"
      ]
    },
    {
      "cell_type": "markdown",
      "metadata": {
        "id": "3dlba6P0Ysmb"
      },
      "source": [
        "# Visulaize the BFS Tree"
      ]
    },
    {
      "cell_type": "code",
      "execution_count": 8,
      "metadata": {
        "colab": {
          "base_uri": "https://localhost:8080/",
          "height": 445
        },
        "id": "yvnrLE9SYrwz",
        "outputId": "476d6a5a-e98d-4c29-ce00-f2cae2b40701"
      },
      "outputs": [
        {
          "data": {
            "image/png": "[encoded data removed]",
            "text/plain": [
              "<Figure size 600x500 with 1 Axes>"
            ]
          },
          "metadata": {},
          "output_type": "display_data"
        }
      ],
      "source": [
        "# --- Build BFS Tree using parent dictionary ---\n",
        "BFS_tree = nx.DiGraph()\n",
        "for node, p in parent.items():\n",
        "    if p is not None:\n",
        "        BFS_tree.add_edge(p, node)\n",
        "\n",
        "# --- Draw BFS Tree ---\n",
        "pos = nx.spring_layout(BFS_tree, seed=42)  # layout for nice positioning\n",
        "\n",
        "plt.figure(figsize=(6, 5))\n",
        "nx.draw_networkx_nodes(BFS_tree, pos, node_color=\"lightgreen\", node_size=200)\n",
        "nx.draw_networkx_edges(BFS_tree, pos, edge_color=\"red\", arrows=True, arrowsize=20)\n",
        "nx.draw_networkx_labels(BFS_tree, pos, font_size=12, font_weight=\"bold\")\n",
        "\n",
        "plt.title(\"BFS Tree Visualization\", fontsize=14)\n",
        "plt.axis(\"off\")\n",
        "plt.show()"
      ]
    }
  ],
  "metadata": {
    "colab": {
      "include_colab_link": true,
      "provenance": []
    },
    "kernelspec": {
      "display_name": "Python 3",
      "name": "python3"
    },
    "language_info": {
      "codemirror_mode": {
        "name": "ipython",
        "version": 3
      },
      "file_extension": ".py",
      "mimetype": "text/x-python",
      "name": "python",
      "nbconvert_exporter": "python",
      "pygments_lexer": "ipython3",
      "version": "3.13.1"
    }
  },
  "nbformat": 4,
  "nbformat_minor": 0
}
